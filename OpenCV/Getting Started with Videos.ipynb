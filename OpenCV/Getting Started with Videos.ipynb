{
 "cells": [
  {
   "cell_type": "markdown",
   "metadata": {},
   "source": [
    "\n",
    "# Getting Started with Videos\n",
    "## Goal\n",
    "<ul>\n",
    "    <li>Learn to read video, display video and save video.</li>\n",
    "    <li>Learn to capture from Camera and display it.</li>\n",
    "    <li>You will learn these functions : cv2.VideoCapture(), cv2.VideoWriter()</li>\n",
    "</ul>\n",
    "## Capture Video from Camera\n",
    "Often, we have to capture live stream with camera. OpenCV provides a very simple interface to this. Let’s capture a video from the camera (I am using the in-built webcam of my laptop), convert it into grayscale video and display it. Just a simple task to get started.\n",
    "\n",
    "To capture a video, you need to create a VideoCapture object. Its argument can be either the device index or the name of a video file. Device index is just the number to specify which camera. Normally one camera will be connected (as in my case). So I simply pass 0 (or -1). You can select the second camera by passing 1 and so on. After that, you can capture frame-by-frame. But at the end, don’t forget to release the capture."
   ]
  },
  {
   "cell_type": "markdown",
   "metadata": {},
   "source": [
    "<b>cap.read()</b> returns a bool (True/False). If frame is read correctly, it will be True. So you can check end of the video by checking this return value.\n",
    "\n",
    "Sometimes, <b>cap</b> may not have initialized the capture. In that case, this code shows error. You can check whether it is initialized or not by the method <b>cap.isOpened()</b>. If it is True, OK. Otherwise open it using <b>cap.open()</b>.\n",
    "\n",
    "You can also access some of the features of this video using <b>cap.get(propId)</b> method where propId is a number from 0 to 18. Each number denotes a property of the video (if it is applicable to that video) and full details can be seen here: <a href=\"https://docs.opencv.org/2.4/modules/highgui/doc/reading_and_writing_images_and_video.html#videocapture-get\">Property Identifier</a>. Some of these values can be modified using cap.set(propId, value). Value is the new value you want.\n",
    "\n",
    "For example, I can check the frame width and height by <b>cap.get(3)</b> and <b>cap.get(4)</b>. It gives me 640x480 by default. But I want to modify it to 320x240. Just use <b>ret = cap.set(3,320)</b> and <b>ret = cap.set(4,240)</b>.\n",
    "\n",
    "Press \"q\" to quit."
   ]
  },
  {
   "cell_type": "code",
   "execution_count": 3,
   "metadata": {},
   "outputs": [],
   "source": [
    "import numpy as np\n",
    "import cv2\n",
    "\n",
    "cap = cv2.VideoCapture(0)\n",
    "\n",
    "while(True):\n",
    "    # Capture frame-by-frame\n",
    "    ret, frame = cap.read()\n",
    "\n",
    "    # Our operations on the frame come here\n",
    "    gray = cv2.cvtColor(frame, cv2.COLOR_BGR2GRAY)\n",
    "\n",
    "    # Display the resulting frame\n",
    "    cv2.imshow('frame',gray)\n",
    "    if cv2.waitKey(1) & 0xFF == ord('q'):\n",
    "        break\n",
    "\n",
    "# When everything done, release the capture\n",
    "cap.release()\n",
    "cv2.destroyAllWindows()"
   ]
  },
  {
   "cell_type": "markdown",
   "metadata": {},
   "source": [
    "## Playing Video from file\n",
    "It is same as capturing from Camera, just change camera index with video file name. Also while displaying the frame, use appropriate time for <b>cv2.waitKey()</b>. If it is too less, video will be very fast and if it is too high, video will be slow (Well, that is how you can display videos in slow motion). 25 milliseconds will be OK in normal cases.\n",
    "\n",
    "<b>Note:-</b>\n",
    "Make sure proper versions of ffmpeg or gstreamer is installed. Sometimes, it is a headache to work with Video Capture mostly due to wrong installation of ffmpeg/gstreamer."
   ]
  },
  {
   "cell_type": "code",
   "execution_count": null,
   "metadata": {},
   "outputs": [],
   "source": [
    "import numpy as np\n",
    "import cv2\n",
    "\n",
    "cap = cv2.VideoCapture('fmvid.mp4')\n",
    "\n",
    "while(cap.isOpened()):\n",
    "    ret, frame = cap.read()\n",
    "\n",
    "    gray = cv2.cvtColor(frame, cv2.COLOR_BGR2GRAY)\n",
    "\n",
    "    cv2.imshow('frame',gray)\n",
    "    if cv2.waitKey(1) & 0xFF == ord('q'):\n",
    "        break\n",
    "\n",
    "cap.release()\n",
    "cv2.destroyAllWindows()"
   ]
  },
  {
   "cell_type": "markdown",
   "metadata": {},
   "source": [
    "## Saving a Video\n",
    "So we capture a video, process it frame-by-frame and we want to save that video. For images, it is very simple, just use <b>cv2.imwrite()</b>. Here a little more work is required.\n",
    "\n",
    "This time we create a <b>VideoWriter</b> object. We should specify the output file name (eg: output.avi). Then we should specify the <b>FourCC</b> code (details in next paragraph). Then number of frames per second (fps) and frame size should be passed. And last one is <b>isColor</b> flag. If it is True, encoder expect color frame, otherwise it works with grayscale frame.\n",
    "\n",
    "<b>FourCC</b> is a 4-byte code used to specify the video codec. The list of available codes can be found in <a href=\"http://www.fourcc.org/codecs.php\">fourcc.org</a>. It is platform dependent. Following codecs works fine for me.\n",
    "<ul>\n",
    "   <li>In Fedora: DIVX, XVID, MJPG, X264, WMV1, WMV2. (XVID is more preferable. MJPG results in high size video. X264 gives very small size video)</li>\n",
    "    <li>In Windows: DIVX (More to be tested and added)</li>\n",
    "    <li>In OSX : (I don’t have access to OSX. Can some one fill this?)</li>\n",
    "</ul>\n",
    "FourCC code is passed as <b>cv2.VideoWriter_fourcc('M','J','P','G')</b> or <b>cv2.VideoWriter_fourcc(*'MJPG)</b> for MJPG.\n",
    "\n",
    "Below code capture from a Camera, flip every frame in vertical direction and saves it."
   ]
  },
  {
   "cell_type": "code",
   "execution_count": 2,
   "metadata": {},
   "outputs": [],
   "source": [
    "import numpy as np\n",
    "import cv2\n",
    "\n",
    "cap = cv2.VideoCapture(0)\n",
    "\n",
    "# Define the codec and create VideoWriter object\n",
    "fourcc = cv2.VideoWriter_fourcc(*'XVID')\n",
    "out = cv2.VideoWriter('output.avi',fourcc, 20.0, (640,480))\n",
    "\n",
    "while(cap.isOpened()):\n",
    "    ret, frame = cap.read()\n",
    "    if ret==True:\n",
    "#         frame = cv2.flip(frame,0)\n",
    "\n",
    "        # write the flipped frame\n",
    "        out.write(frame)\n",
    "\n",
    "        cv2.imshow('frame',frame)\n",
    "        if cv2.waitKey(1) & 0xFF == ord('q'):\n",
    "            break\n",
    "    else:\n",
    "        break\n",
    "\n",
    "# Release everything if job is finished\n",
    "cap.release()\n",
    "out.release()\n",
    "cv2.destroyAllWindows()"
   ]
  },
  {
   "cell_type": "code",
   "execution_count": null,
   "metadata": {},
   "outputs": [],
   "source": []
  }
 ],
 "metadata": {
  "kernelspec": {
   "display_name": "Python 3",
   "language": "python",
   "name": "python3"
  },
  "language_info": {
   "codemirror_mode": {
    "name": "ipython",
    "version": 3
   },
   "file_extension": ".py",
   "mimetype": "text/x-python",
   "name": "python",
   "nbconvert_exporter": "python",
   "pygments_lexer": "ipython3",
   "version": "3.6.4"
  }
 },
 "nbformat": 4,
 "nbformat_minor": 2
}
